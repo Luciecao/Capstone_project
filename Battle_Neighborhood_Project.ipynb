{
 "cells": [
  {
   "cell_type": "markdown",
   "metadata": {},
   "source": [
    "### Real Estate Investment in Paris city"
   ]
  },
  {
   "cell_type": "markdown",
   "metadata": {},
   "source": [
    "#### Introduction"
   ]
  },
  {
   "cell_type": "markdown",
   "metadata": {},
   "source": [
    "More and more people, especially young professionals, are looking to buy their own house or appartment given the low interest environment and less restrictive mortgage criteria these years. Each individual has his or her own list to check when it comes to \"dream house\". Preferences for a particular area or location varies demongraphically. In this project, the focus will be on comparison of clustered neighborhood within Paris city to have better idea of the communities, their tastes and preferences."
   ]
  },
  {
   "cell_type": "markdown",
   "metadata": {},
   "source": [
    "#### Data"
   ]
  },
  {
   "cell_type": "markdown",
   "metadata": {},
   "source": [
    "Leveraging on the Foursquare location data of Paris to help a friend who is looking to buy-and-lent an appartment located in Paris city, to gain an overview of characteristics of communities whitin the city. \n",
    "\n",
    "Data on popular places and trending events will be needed to determine the characteristics of each cluster."
   ]
  },
  {
   "cell_type": "code",
   "execution_count": null,
   "metadata": {},
   "outputs": [],
   "source": []
  }
 ],
 "metadata": {
  "kernelspec": {
   "display_name": "Python 3",
   "language": "python",
   "name": "python3"
  },
  "language_info": {
   "codemirror_mode": {
    "name": "ipython",
    "version": 3
   },
   "file_extension": ".py",
   "mimetype": "text/x-python",
   "name": "python",
   "nbconvert_exporter": "python",
   "pygments_lexer": "ipython3",
   "version": "3.8.5"
  }
 },
 "nbformat": 4,
 "nbformat_minor": 4
}
